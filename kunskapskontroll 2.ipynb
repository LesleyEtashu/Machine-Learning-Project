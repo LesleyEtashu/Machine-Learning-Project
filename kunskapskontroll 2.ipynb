{
 "cells": [
  {
   "cell_type": "code",
   "execution_count": 1,
   "id": "96db3690-d85e-413a-b70f-19e5616da2b8",
   "metadata": {},
   "outputs": [],
   "source": [
    "import pandas as pd\n",
    "import numpy as np\n",
    "import matplotlib.pyplot as plt\n",
    "from urllib.request import urlretrieve\n",
    "from sklearn.model_selection import train_test_split\n",
    "from sklearn.preprocessing import StandardScaler\n",
    "from sklearn.linear_model import LogisticRegression, SGDClassifier\n",
    "from sklearn.ensemble import RandomForestClassifier, VotingClassifier\n",
    "from sklearn.metrics import accuracy_score, classification_report\n",
    "%matplotlib inline"
   ]
  },
  {
   "cell_type": "code",
   "execution_count": 5,
   "id": "afd2c809-a2d2-484c-a74a-076ebf2cc120",
   "metadata": {},
   "outputs": [
    {
     "name": "stdout",
     "output_type": "stream",
     "text": [
      "Downloading MNIST CSV files...\n",
      "Downloaded mnist_train.csv\n",
      "Downloaded mnist_test.csv\n"
     ]
    }
   ],
   "source": [
    "def download_mnist_csv():\n",
    "    base_url = \"https://pjreddie.com/media/files/\"\n",
    "    files = {\"train\": \"mnist_train.csv\", \"test\": \"mnist_test.csv\"}\n",
    "    print(\"Downloading MNIST CSV files...\")\n",
    "    for dataset, filename in files.items():\n",
    "        url = base_url + filename\n",
    "        try:\n",
    "            urlretrieve(url, filename)\n",
    "            print(f\"Downloaded {filename}\")\n",
    "        except Exception as e:\n",
    "            print(f\"Error downloading {filename}: {e}\")\n",
    "    return files\n",
    "\n",
    "# Download the files\n",
    "files = download_mnist_csv()"
   ]
  },
  {
   "cell_type": "code",
   "execution_count": 9,
   "id": "f40cd191-7ec7-4d67-a88f-6fe5d5a1acf7",
   "metadata": {},
   "outputs": [
    {
     "name": "stdout",
     "output_type": "stream",
     "text": [
      "Number of invalid pixel values: 0\n",
      "Number of invalid labels: 0\n",
      "Removed 0 rows with invalid labels\n",
      "Number of invalid pixel values: 0\n",
      "Number of invalid labels: 0\n",
      "Removed 0 rows with invalid labels\n"
     ]
    }
   ],
   "source": [
    "def clean_mnist_data(df):\n",
    "    pixel_cols = df.columns[1:]\n",
    "    invalid_pixels = (df[pixel_cols] < 0) | (df[pixel_cols] > 255)\n",
    "    print(f\"Number of invalid pixel values: {invalid_pixels.sum().sum()}\")\n",
    "    invalid_labels = (df[0] < 0) | (df[0] > 9)\n",
    "    print(f\"Number of invalid labels: {invalid_labels.sum()}\")\n",
    "    df[pixel_cols] = df[pixel_cols].clip(0, 255)\n",
    "    clean_df = df[~invalid_labels]\n",
    "    print(f\"Removed {len(df) - len(clean_df)} rows with invalid labels\")\n",
    "    return clean_df\n",
    "\n",
    "# Load data\n",
    "train_df = pd.read_csv(files[\"train\"], header=None)\n",
    "test_df = pd.read_csv(files[\"test\"], header=None)\n",
    "\n",
    "# Clean data\n",
    "train_df_clean = clean_mnist_data(train_df)\n",
    "test_df_clean = clean_mnist_data(test_df)\n",
    "\n",
    "# Extract features and labels\n",
    "X_train_full = train_df_clean.iloc[:, 1:].values\n",
    "y_train_full = train_df_clean.iloc[:, 0].values\n",
    "X_test = test_df_clean.iloc[:, 1:].values\n",
    "y_test = test_df_clean.iloc[:, 0].values\n",
    "\n",
    "# Use a subset of training data\n",
    "subset_size = 10000  # 10,000 samples for faster training\n",
    "indices = np.random.choice(len(X_train_full), subset_size, replace=False)\n",
    "X_train = X_train_full[indices]\n",
    "y_train = y_train_full[indices]"
   ]
  },
  {
   "cell_type": "code",
   "execution_count": 11,
   "id": "c2005ddd-08ea-4454-bcb3-3e231a532af6",
   "metadata": {},
   "outputs": [
    {
     "name": "stdout",
     "output_type": "stream",
     "text": [
      "Dataset Exploration (subset):\n",
      "Training set shape: (10000, 784)\n",
      "Test set shape: (10000, 784)\n",
      "Image dimensions: 28x28\n",
      "\n",
      "Label distribution in training set:\n",
      "Digit 0: 962 samples\n",
      "Digit 1: 1116 samples\n",
      "Digit 2: 973 samples\n",
      "Digit 3: 1061 samples\n",
      "Digit 4: 927 samples\n",
      "Digit 5: 906 samples\n",
      "Digit 6: 1030 samples\n",
      "Digit 7: 1061 samples\n",
      "Digit 8: 986 samples\n",
      "Digit 9: 978 samples\n",
      "Pixel value range: [0, 255]\n",
      "Mean pixel value: 33.16\n"
     ]
    }
   ],
   "source": [
    "print(\"Dataset Exploration (subset):\")\n",
    "print(f\"Training set shape: {X_train.shape}\")\n",
    "print(f\"Test set shape: {X_test.shape}\")\n",
    "print(f\"Image dimensions: {int(np.sqrt(X_train.shape[1]))}x{int(np.sqrt(X_train.shape[1]))}\")\n",
    "print(\"\\nLabel distribution in training set:\")\n",
    "unique, counts = np.unique(y_train, return_counts=True)\n",
    "for digit, count in zip(unique, counts):\n",
    "    print(f\"Digit {digit}: {count} samples\")\n",
    "print(f\"Pixel value range: [{X_train.min()}, {X_train.max()}]\")\n",
    "print(f\"Mean pixel value: {X_train.mean():.2f}\")"
   ]
  },
  {
   "cell_type": "code",
   "execution_count": 13,
   "id": "c63ddb8c-38e1-4f47-aa86-90ccc74ad111",
   "metadata": {},
   "outputs": [
    {
     "name": "stdout",
     "output_type": "stream",
     "text": [
      "Sample images from training set:\n"
     ]
    },
    {
     "data": {
      "image/png": "[encoded data removed]",
      "text/plain": [
       "<Figure size 1000x200 with 5 Axes>"
      ]
     },
     "metadata": {},
     "output_type": "display_data"
    }
   ],
   "source": [
    "def plot_sample_images(X, y, num_samples=5):\n",
    "    plt.figure(figsize=(10, 2))\n",
    "    random_indices = np.random.choice(len(X), num_samples, replace=False)\n",
    "    for i, idx in enumerate(random_indices):\n",
    "        plt.subplot(1, num_samples, i+1)\n",
    "        img = X[idx].reshape(28, 28)\n",
    "        plt.imshow(img, cmap='gray')\n",
    "        plt.title(f\"Label: {y[idx]}\")\n",
    "        plt.axis('off')\n",
    "    plt.show()\n",
    "\n",
    "print(\"Sample images from training set:\")\n",
    "plot_sample_images(X_train, y_train)"
   ]
  },
  {
   "cell_type": "code",
   "execution_count": 15,
   "id": "2ec3ab46-e2e4-40e4-9c7c-70474fe76627",
   "metadata": {},
   "outputs": [
    {
     "name": "stdout",
     "output_type": "stream",
     "text": [
      "Data scaling completed!\n"
     ]
    }
   ],
   "source": [
    "# Scale the data\n",
    "scaler = StandardScaler()\n",
    "X_train_scaled = scaler.fit_transform(X_train)\n",
    "X_test_scaled = scaler.transform(X_test)\n",
    "print(\"Data scaling completed!\")"
   ]
  },
  {
   "cell_type": "code",
   "execution_count": 17,
   "id": "a721d079-4d2d-4fe6-a1a1-7dd3940fa4ec",
   "metadata": {},
   "outputs": [
    {
     "name": "stdout",
     "output_type": "stream",
     "text": [
      "Training models...\n",
      "Logistic Regression trained successfully!\n"
     ]
    },
    {
     "name": "stderr",
     "output_type": "stream",
     "text": [
      "C:\\Users\\lesle\\anaconda3\\Lib\\site-packages\\sklearn\\linear_model\\_stochastic_gradient.py:723: ConvergenceWarning: Maximum number of iteration reached before convergence. Consider increasing max_iter to improve the fit.\n",
      "  warnings.warn(\n"
     ]
    },
    {
     "name": "stdout",
     "output_type": "stream",
     "text": [
      "Linear SVM trained successfully!\n",
      "Random Forest trained successfully!\n"
     ]
    },
    {
     "name": "stderr",
     "output_type": "stream",
     "text": [
      "C:\\Users\\lesle\\anaconda3\\Lib\\site-packages\\sklearn\\linear_model\\_stochastic_gradient.py:723: ConvergenceWarning: Maximum number of iteration reached before convergence. Consider increasing max_iter to improve the fit.\n",
      "  warnings.warn(\n"
     ]
    },
    {
     "name": "stdout",
     "output_type": "stream",
     "text": [
      "Ensemble trained successfully!\n"
     ]
    }
   ],
   "source": [
    "# Define models\n",
    "lr_model = LogisticRegression(max_iter=1000, random_state=42)\n",
    "svm_model = SGDClassifier(loss='hinge', max_iter=1000, random_state=42)  # Linear SVM\n",
    "rf_model = RandomForestClassifier(n_estimators=100, random_state=42)\n",
    "ensemble_model = VotingClassifier(\n",
    "    estimators=[('lr', lr_model), ('svm', svm_model), ('rf', rf_model)],\n",
    "    voting='hard'\n",
    ")\n",
    "\n",
    "# Train models\n",
    "print(\"Training models...\")\n",
    "for model, name in [(lr_model, \"Logistic Regression\"), \n",
    "                    (svm_model, \"Linear SVM\"), \n",
    "                    (rf_model, \"Random Forest\"), \n",
    "                    (ensemble_model, \"Ensemble\")]:\n",
    "    model.fit(X_train_scaled, y_train)\n",
    "    print(f\"{name} trained successfully!\")"
   ]
  },
  {
   "cell_type": "code",
   "execution_count": 19,
   "id": "e3853e11-cb0a-42af-b970-1ed4b590a2fc",
   "metadata": {},
   "outputs": [
    {
     "name": "stdout",
     "output_type": "stream",
     "text": [
      "\n",
      "Logistic Regression Results:\n",
      "Accuracy: 0.8862\n",
      "Classification Report:\n",
      "              precision    recall  f1-score   support\n",
      "\n",
      "           0       0.94      0.95      0.94       980\n",
      "           1       0.95      0.97      0.96      1135\n",
      "           2       0.87      0.85      0.86      1032\n",
      "           3       0.83      0.89      0.86      1010\n",
      "           4       0.89      0.89      0.89       982\n",
      "           5       0.83      0.81      0.82       892\n",
      "           6       0.91      0.92      0.91       958\n",
      "           7       0.90      0.89      0.90      1028\n",
      "           8       0.84      0.81      0.83       974\n",
      "           9       0.88      0.87      0.87      1009\n",
      "\n",
      "    accuracy                           0.89     10000\n",
      "   macro avg       0.88      0.88      0.88     10000\n",
      "weighted avg       0.89      0.89      0.89     10000\n",
      "\n",
      "\n",
      "Linear SVM Results:\n",
      "Accuracy: 0.9011\n",
      "Classification Report:\n",
      "              precision    recall  f1-score   support\n",
      "\n",
      "           0       0.95      0.96      0.95       980\n",
      "           1       0.97      0.96      0.96      1135\n",
      "           2       0.93      0.86      0.89      1032\n",
      "           3       0.88      0.90      0.89      1010\n",
      "           4       0.92      0.90      0.91       982\n",
      "           5       0.87      0.82      0.84       892\n",
      "           6       0.92      0.93      0.93       958\n",
      "           7       0.92      0.91      0.92      1028\n",
      "           8       0.78      0.89      0.83       974\n",
      "           9       0.88      0.86      0.87      1009\n",
      "\n",
      "    accuracy                           0.90     10000\n",
      "   macro avg       0.90      0.90      0.90     10000\n",
      "weighted avg       0.90      0.90      0.90     10000\n",
      "\n",
      "\n",
      "Random Forest Results:\n",
      "Accuracy: 0.9517\n",
      "Classification Report:\n",
      "              precision    recall  f1-score   support\n",
      "\n",
      "           0       0.96      0.99      0.97       980\n",
      "           1       0.98      0.99      0.99      1135\n",
      "           2       0.95      0.94      0.94      1032\n",
      "           3       0.93      0.94      0.94      1010\n",
      "           4       0.95      0.95      0.95       982\n",
      "           5       0.95      0.94      0.95       892\n",
      "           6       0.95      0.97      0.96       958\n",
      "           7       0.96      0.94      0.95      1028\n",
      "           8       0.94      0.92      0.93       974\n",
      "           9       0.93      0.93      0.93      1009\n",
      "\n",
      "    accuracy                           0.95     10000\n",
      "   macro avg       0.95      0.95      0.95     10000\n",
      "weighted avg       0.95      0.95      0.95     10000\n",
      "\n",
      "\n",
      "Ensemble Results:\n",
      "Accuracy: 0.9254\n",
      "Classification Report:\n",
      "              precision    recall  f1-score   support\n",
      "\n",
      "           0       0.94      0.98      0.96       980\n",
      "           1       0.96      0.98      0.97      1135\n",
      "           2       0.92      0.91      0.91      1032\n",
      "           3       0.89      0.93      0.91      1010\n",
      "           4       0.93      0.93      0.93       982\n",
      "           5       0.91      0.86      0.88       892\n",
      "           6       0.95      0.95      0.95       958\n",
      "           7       0.94      0.92      0.93      1028\n",
      "           8       0.88      0.89      0.89       974\n",
      "           9       0.93      0.89      0.91      1009\n",
      "\n",
      "    accuracy                           0.93     10000\n",
      "   macro avg       0.92      0.92      0.92     10000\n",
      "weighted avg       0.93      0.93      0.93     10000\n",
      "\n"
     ]
    }
   ],
   "source": [
    "def evaluate_model(model, X_test, y_test, name):\n",
    "    y_pred = model.predict(X_test)\n",
    "    accuracy = accuracy_score(y_test, y_pred)\n",
    "    print(f\"\\n{name} Results:\")\n",
    "    print(f\"Accuracy: {accuracy:.4f}\")\n",
    "    print(\"Classification Report:\")\n",
    "    print(classification_report(y_test, y_pred))\n",
    "    return accuracy\n",
    "\n",
    "# Evaluate all models\n",
    "accuracies = {}\n",
    "for model, name in [(lr_model, \"Logistic Regression\"), \n",
    "                    (svm_model, \"Linear SVM\"), \n",
    "                    (rf_model, \"Random Forest\"), \n",
    "                    (ensemble_model, \"Ensemble\")]:\n",
    "    accuracies[name] = evaluate_model(model, X_test_scaled, y_test, name)"
   ]
  },
  {
   "cell_type": "code",
   "execution_count": 21,
   "id": "0d9c6797-da4b-48bc-893b-9e004eafc3dd",
   "metadata": {},
   "outputs": [
    {
     "data": {
      "image/png": "[encoded data removed]",
      "text/plain": [
       "<Figure size 1000x600 with 1 Axes>"
      ]
     },
     "metadata": {},
     "output_type": "display_data"
    }
   ],
   "source": [
    "plt.figure(figsize=(10, 6))\n",
    "plt.bar(accuracies.keys(), accuracies.values())\n",
    "plt.title('Model Accuracy Comparison')\n",
    "plt.xlabel('Models')\n",
    "plt.ylabel('Accuracy')\n",
    "plt.ylim(0.7, 1.0)\n",
    "for i, (name, acc) in enumerate(accuracies.items()):\n",
    "    plt.text(i, acc + 0.005, f'{acc:.4f}', ha='center')\n",
    "plt.show()"
   ]
  },
  {
   "cell_type": "code",
   "execution_count": null,
   "id": "d9edd147-e4bb-4b9e-8af3-b4593d134bb6",
   "metadata": {},
   "outputs": [],
   "source": []
  }
 ],
 "metadata": {
  "kernelspec": {
   "display_name": "Python 3 (ipykernel)",
   "language": "python",
   "name": "python3"
  },
  "language_info": {
   "codemirror_mode": {
    "name": "ipython",
    "version": 3
   },
   "file_extension": ".py",
   "mimetype": "text/x-python",
   "name": "python",
   "nbconvert_exporter": "python",
   "pygments_lexer": "ipython3",
   "version": "3.12.4"
  }
 },
 "nbformat": 4,
 "nbformat_minor": 5
}
